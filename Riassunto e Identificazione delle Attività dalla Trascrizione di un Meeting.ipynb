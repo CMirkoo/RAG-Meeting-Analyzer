{
  "nbformat": 4,
  "nbformat_minor": 0,
  "metadata": {
    "colab": {
      "provenance": [],
      "toc_visible": true
    },
    "kernelspec": {
      "name": "python3",
      "display_name": "Python 3"
    },
    "language_info": {
      "name": "python"
    }
  },
  "cells": [
    {
      "cell_type": "markdown",
      "source": [
        "# **Progetto: Riassunto e Identificazione delle Attività dalla Trascrizione di un Meeting**"
      ],
      "metadata": {
        "id": "VUpn6ePWB32a"
      }
    },
    {
      "cell_type": "markdown",
      "source": [
        "Realizzare uno script in Python che: 1. Analizzi una trascrizione di un meeting fornita. 2. Generi un riassunto conciso dei punti principali discussi. 3. Identifichi e strutturi le attività assegnate a ciascun partecipante."
      ],
      "metadata": {
        "id": "buDsfyTC9kKp"
      }
    },
    {
      "cell_type": "markdown",
      "source": [
        "## **Obiettivo del progetto:**"
      ],
      "metadata": {
        "id": "edJj1OVUnBFY"
      }
    },
    {
      "cell_type": "markdown",
      "source": [
        "Realizzare uno script in Python che: </br>\n",
        "\n",
        "1.   Analizzi una trascrizione di un meeting fornita.\n",
        "2.   Generi un riassunto conciso dei punti principali discussi.\n",
        "3.   Identifichi e strutturi le attività assegnate a ciascun partecipante."
      ],
      "metadata": {
        "id": "cQp9jK8T9pRt"
      }
    },
    {
      "cell_type": "markdown",
      "source": [
        "## **Benefici del progetto:**"
      ],
      "metadata": {
        "id": "ypkrSj5p91ct"
      }
    },
    {
      "cell_type": "markdown",
      "source": [
        "- Risparmio tempo analisi manuale.\n",
        "\n",
        "- Maggiore accuratezza informazioni estratte.\n",
        "\n",
        "- Facilitare monitoraggio compiti assegnati.\n",
        "\n",
        "- Miglioramento efficienza comunicazione team.\n",
        "\n"
      ],
      "metadata": {
        "id": "EZq5HZzI94Qr"
      }
    },
    {
      "cell_type": "markdown",
      "source": [
        "---"
      ],
      "metadata": {
        "id": "0acEXswH-Ztf"
      }
    },
    {
      "cell_type": "markdown",
      "source": [
        "## **Codice:**"
      ],
      "metadata": {
        "id": "ZZxHxXDrbhhN"
      }
    },
    {
      "cell_type": "markdown",
      "source": [
        "### **Dipendeze:**"
      ],
      "metadata": {
        "id": "7jF3fGvUboqc"
      }
    },
    {
      "cell_type": "code",
      "source": [
        "!pip install langchain-openai llama-index requests\n",
        "!pip install langchain-community"
      ],
      "metadata": {
        "id": "nEXqj1uBbYwt",
        "collapsed": true
      },
      "execution_count": null,
      "outputs": []
    },
    {
      "cell_type": "code",
      "source": [
        "import requests\n",
        "from langchain_openai import ChatOpenAI\n",
        "from llama_index.core import VectorStoreIndex, SimpleDirectoryReader, Settings\n",
        "from llama_index.llms.openai import OpenAI\n",
        "import os\n",
        "\n",
        "# Imposta API OpenAI\n",
        "os.environ[\"OPENAI_API_KEY\"] = \"INSERISCI_LA_TUA_API\""
      ],
      "metadata": {
        "id": "hcRIBwZ_bYql"
      },
      "execution_count": null,
      "outputs": []
    },
    {
      "cell_type": "markdown",
      "source": [
        "### **Main**"
      ],
      "metadata": {
        "id": "Cz9WXIcKdJ44"
      }
    },
    {
      "cell_type": "code",
      "source": [
        "url = \"https://raw.githubusercontent.com/Profession-AI/progetti-llm/refs/heads/main/Riassunto%20e%20identificazione%20delle%20attivit%C3%A0%20dalla%20trascrizione%20di%20un%20meeting/meeting_transcription.txt\"\n",
        "\n",
        "response = requests.get(url)\n",
        "if response.status_code != 200:\n",
        "    raise Exception(\"Caricamento file non riuscito\")\n",
        "\n",
        "with open(\"meeting_transcription.txt\", \"w\") as file:\n",
        "    file.write(response.text)"
      ],
      "metadata": {
        "id": "XLJgNx8EcM6a"
      },
      "execution_count": null,
      "outputs": []
    },
    {
      "cell_type": "code",
      "source": [
        "# Carico i documenti presenti nella directory corrente\n",
        "documents = SimpleDirectoryReader(\".\").load_data()\n",
        "\n",
        "# Configurazione modello LLM (GPT-4-mini)\n",
        "llm = OpenAI(model=\"gpt-4.1-mini\", temperature=0.2)\n",
        "Settings.llm = llm\n",
        "Settings.chunk_size = 1024\n",
        "\n",
        "# Creazione dell'indice\n",
        "index = VectorStoreIndex.from_documents(documents)\n",
        "\n",
        "# Creazione query engine per interrogare l'indice (metodo RAG)\n",
        "query_engine = index.as_query_engine()"
      ],
      "metadata": {
        "id": "gdvXD1Bldfpu"
      },
      "execution_count": null,
      "outputs": []
    },
    {
      "cell_type": "code",
      "source": [
        "prompt_summary = \"\"\"\n",
        "Genera un breve riassunto puntato evidenziando chiaramente i punti principali discussi nel meeting fornito nella trascrizione.\n",
        "\"\"\"\n",
        "\n",
        "prompt_tasks = \"\"\"\n",
        "Identifica chiaramente le attività assegnate durante il meeting dalla trascrizione, indicando nome e cognome del responsabile e l'attività stessa nel formato:\n",
        "- Nome Cognome: Attività assegnata\n",
        "\"\"\""
      ],
      "metadata": {
        "id": "2WbTwCTlji2N"
      },
      "execution_count": null,
      "outputs": []
    },
    {
      "cell_type": "code",
      "source": [
        "# Ottieni riassunto dal modello\n",
        "print(\"\\n Riassunto del Meeting:\")\n",
        "summary_response = query_engine.query(prompt_summary)\n",
        "print(summary_response)\n",
        "\n",
        "# Ottieni attività assegnate dal modello\n",
        "print(\"\\n Attività Identificate:\")\n",
        "tasks_response = query_engine.query(prompt_tasks)\n",
        "print(tasks_response)"
      ],
      "metadata": {
        "colab": {
          "base_uri": "https://localhost:8080/"
        },
        "id": "EQI9DiSkkiXK",
        "outputId": "62fd9b4b-50b2-46c2-b88e-0d5b594591c2"
      },
      "execution_count": null,
      "outputs": [
        {
          "output_type": "stream",
          "name": "stdout",
          "text": [
            "\n",
            " Riassunto del Meeting:\n",
            "- Necessità di un’interfaccia utente più intuitiva per l’inserimento delle fatture.  \n",
            "- Gestione automatizzata delle scadenze dei pagamenti con promemoria e notifiche.  \n",
            "- Reportistica personalizzabile con filtri per parametri come intervalli di tempo e categorie di spesa.  \n",
            "- Invio automatico di email ai fornitori in caso di ritardi nei pagamenti.  \n",
            "- Archiviazione digitale dei documenti, con possibilità di allegare PDF delle fatture.  \n",
            "- Implementazione di uno spazio di storage cloud e funzione di ricerca avanzata per i documenti.  \n",
            "- Redazione di un piano tecnico basato sui requisiti emersi per la successiva approvazione del progetto.\n",
            "\n",
            " Attività Identificate:\n",
            "- Andrea Monti: Integrare un sistema di notifiche e invio email nella piattaforma  \n",
            "- Andrea Monti: Prendere nota della necessità di uno spazio di storage e gestione documentale  \n",
            "- Andrea Monti: Redigere un piano tecnico basato sui requisiti emersi durante il meeting\n"
          ]
        }
      ]
    },
    {
      "cell_type": "markdown",
      "source": [
        "---"
      ],
      "metadata": {
        "id": "bsC4tUlQqjD0"
      }
    },
    {
      "cell_type": "markdown",
      "source": [
        "## **Spiegazione del codice:**"
      ],
      "metadata": {
        "id": "p5SdS9zho1M_"
      }
    },
    {
      "cell_type": "markdown",
      "source": [
        "\n",
        "## Spiegazione del codice: Analisi Meeting con RAG, LangChain e LlamaIndex\n",
        "\n",
        "### Scelte Tecnologiche e Motivazioni\n",
        "\n",
        "- **LlamaIndex**: Indicizza i documenti di testo con embeddings e ne permette la ricerca semantica rapida.\n",
        "- **LangChain**: Gestisce la pipeline e l’integrazione tra retrieval e modello LLM, rendendo la soluzione modulare ed estensibile.\n",
        "- **OpenAI GPT-4.1-mini**: Modello linguistico potente, ideale per riassunti ed estrazione di informazioni contestualizzate.\n",
        "- **RAG (Retrieval-Augmented Generation)**: Migliora la precisione delle risposte perché si basa sui dati reali forniti in input, riducendo il rischio di informazioni errate (allucinazioni).\n",
        "\n",
        "---\n",
        "\n",
        "### Struttura del Codice\n",
        "\n",
        "#### 1. Download e salvataggio della trascrizione\n",
        "\n",
        "Scarica il file dal link e lo salva localmente per l’analisi.\n",
        "```python\n",
        "    import requests\n",
        "    url = \"...\"\n",
        "    response = requests.get(url)\n",
        "    with open(\"meeting_transcription.txt\", \"w\", encoding=\"utf-8\") as file:\n",
        "        file.write(response.text)\n",
        "```\n",
        "\n",
        "---\n",
        "\n",
        "#### 2. Caricamento e indicizzazione dei documenti\n",
        "\n",
        "Crea l’indice vettoriale a partire dai file presenti nella cartella, usando LlamaIndex e imposta il modello GPT-4.\n",
        "\n",
        "```python\n",
        "    import requests\n",
        "    from langchain_openai import ChatOpenAI\n",
        "    from llama_index import VectorStoreIndex, SimpleDirectoryReader\n",
        "    from llama_index.llms import OpenAI\n",
        "    import os\n",
        "\n",
        "    os.environ[\"OPENAI_API_KEY\"] = \"...\"\n",
        "    documents = SimpleDirectoryReader(\".\").load_data()\n",
        "    llm = OpenAI(model=\"gpt-4.1-mini\", temperature=0.2)\n",
        "    Settings.llm = llm\n",
        "    Settings.chunk_size = 1024\n",
        "    index = VectorStoreIndex.from_documents(documents)\n",
        "```\n",
        "\n",
        "Motivazione:\n",
        "- Caricamento flessibile di più documenti.\n",
        "- Indicizzazione e embedding automatico dei testi per la ricerca semantica.\n",
        "- Possibilità di cambiare facilmente modello o parametri (es. temperatura).\n",
        "\n",
        "---\n",
        "\n",
        "#### 3. Creazione del motore di query (RAG)\n",
        "\n",
        "Si crea il query engine che permette di interrogare l’indice vettoriale.\n",
        "\n",
        "```python\n",
        "    query_engine = index.as_query_engine()\n",
        "```\n",
        "\n",
        "Motivazione:\n",
        "Permette di sfruttare Retrieval-Augmented Generation (RAG) per risposte precise e contestualizzate ai dati.\n",
        "\n",
        "---\n",
        "\n",
        "#### 4. Prompt separati e generazione output\n",
        "\n",
        "Vengono definiti prompt specifici per ottenere il riassunto del meeting e la lista delle attività assegnate.\n",
        "\n",
        "```python\n",
        "    prompt_summary = \"Genera un riassunto puntato dei punti principali discussi nel meeting.\"\n",
        "    prompt_tasks = \"Identifica le attività assegnate ai partecipanti, specificando nome e compito.\"\n",
        "\n",
        "    print(\"\\n Riassunto:\")\n",
        "    print(query_engine.query(prompt_summary))\n",
        "\n",
        "    print(\"\\n Attività:\")\n",
        "    print(query_engine.query(prompt_tasks))\n",
        "```\n",
        "\n",
        "Motivazione:\n",
        "Prompt separati danno risultati più precisi, facilmente riutilizzabili e validabili nei processi aziendali.\n",
        "\n",
        "---\n",
        "\n",
        "### Risultati Ottenuti\n",
        "- Riassunto chiaro dei principali temi trattati durante il meeting.\n",
        "- Elenco strutturato delle attività, con indicazione dei responsabili per ogni compito.\n",
        "- Risposte pertinenti e aderenti al contenuto della trascrizione, con minima possibilità di errori o “fantasie” del modello.\n",
        "\n",
        "---\n",
        "\n",
        "### Vantaggi della Soluzione\n",
        "\n",
        "- Riduce errori e velocizza l’analisi delle trascrizioni.\n",
        "- Risultati sempre aggiornati, ancorati ai dati reali.\n",
        "- Facile da integrare in pipeline di automazione o dashboard.\n",
        "- Possibilità di estensione con prompt o dati aggiuntivi.\n",
        "\n",
        "---\n",
        "\n",
        "### Limitazioni del Sistema\n",
        "\n",
        "- Dipendenza dalla qualità della trascrizione: Se la trascrizione contiene errori o mancano nomi/compiti, anche il sistema produrrà risultati incompleti.\n",
        "- Necessità di una connessione Internet e di una chiave API per accedere ai modelli OpenAI.\n",
        "- Non distingue compiti impliciti: Solo le attività esplicitamente menzionate vengono rilevate.\n",
        "- Costo API: L’utilizzo di modelli GPT può avere un costo se usato su grandi volumi."
      ],
      "metadata": {
        "id": "BYmn8cubo8wr"
      }
    },
    {
      "cell_type": "code",
      "source": [],
      "metadata": {
        "id": "_KvB3MAuo6tZ"
      },
      "execution_count": null,
      "outputs": []
    }
  ]
}